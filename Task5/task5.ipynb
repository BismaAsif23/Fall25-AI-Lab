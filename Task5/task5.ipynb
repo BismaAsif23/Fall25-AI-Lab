{
 "cells": [
  {
   "cell_type": "code",
   "execution_count": 4,
   "id": "252430f6",
   "metadata": {},
   "outputs": [
    {
     "name": "stdout",
     "output_type": "stream",
     "text": [
      "Starting 'A'\n",
      "\n",
      "A\n",
      "B\n",
      "D\n",
      "E\n",
      "F\n",
      "C\n"
     ]
    }
   ],
   "source": [
    "graph = {\n",
    "    'A': ['B', 'C'],\n",
    "    'B': ['D', 'E'],\n",
    "    'C': ['F'],\n",
    "    'D': [],\n",
    "    'E': ['F'],\n",
    "    'F': []\n",
    "}\n",
    "\n",
    "class Node:\n",
    "    def __init__(self, val):\n",
    "        self.val = val\n",
    "        self.next = []\n",
    "\n",
    "class Graph:\n",
    "    def __init__(self, graph_data):\n",
    "        self.nodes = {}\n",
    "        for key in graph_data:\n",
    "            self.add_node(key)\n",
    "            for neighbor in graph_data[key]:\n",
    "                self.add_edge(key, neighbor)\n",
    "\n",
    "    def add_node(self, key):\n",
    "        if key not in self.nodes:\n",
    "            self.nodes[key] = Node(key)\n",
    "\n",
    "    def add_edge(self, a, b):\n",
    "        self.add_node(a)\n",
    "        self.add_node(b)\n",
    "        self.nodes[a].next.append(self.nodes[b])\n",
    "\n",
    "    def dfs_stack(self, start):\n",
    "        visited = set()\n",
    "        stack = [self.nodes[start]]\n",
    "\n",
    "        print(f\"Starting '{start}'\\n\")\n",
    "        while stack:\n",
    "            node = stack.pop()\n",
    "            if node.val not in visited:\n",
    "                print(node.val)\n",
    "                visited.add(node.val)\n",
    "                for neighbor in reversed(node.next):\n",
    "                    if neighbor.val not in visited:\n",
    "                        stack.append(neighbor)\n",
    "\n",
    "\n",
    "g = Graph(graph)\n",
    "g.dfs_stack('A')\n"
   ]
  }
 ],
 "metadata": {
  "kernelspec": {
   "display_name": "base",
   "language": "python",
   "name": "python3"
  },
  "language_info": {
   "codemirror_mode": {
    "name": "ipython",
    "version": 3
   },
   "file_extension": ".py",
   "mimetype": "text/x-python",
   "name": "python",
   "nbconvert_exporter": "python",
   "pygments_lexer": "ipython3",
   "version": "3.12.4"
  }
 },
 "nbformat": 4,
 "nbformat_minor": 5
}
