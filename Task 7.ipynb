{
 "cells": [
  {
   "cell_type": "code",
   "execution_count": 2,
   "id": "71983942",
   "metadata": {},
   "outputs": [
    {
     "name": "stdout",
     "output_type": "stream",
     "text": [
      "Expanded Nodes: ['L', 'A', 'B', 'N']\n",
      "Shortest Path Found: L → B → N\n",
      "Total Cost: 9\n"
     ]
    }
   ],
   "source": [
    "\n",
    "graph = {\n",
    "    'L': [['A', 1], ['B', 5], ['C', 8]],\n",
    "    'A': [['L', 1], ['D', 3], ['E', 7], ['N', 9]],\n",
    "    'B': [['L', 5], ['N', 4]],\n",
    "    'C': [['L', 8], ['N', 5]],\n",
    "    'D': [['A', 3]],\n",
    "    'E': [['A', 7]]\n",
    "}\n",
    "\n",
    "heuristic = {'L': 8, 'A': 8, 'B': 4, 'C': 3, 'D': 5000, 'E': 5000, 'N': 0}\n",
    "path_cost = {'L': 0}\n",
    "\n",
    "def a_star_search():\n",
    "    open_nodes = [['L', heuristic['L']]]\n",
    "    closed_nodes = []\n",
    "\n",
    "    while open_nodes:\n",
    "        all_fn = [node[1] for node in open_nodes]\n",
    "        idx = all_fn.index(min(all_fn))\n",
    "        current_node = open_nodes[idx][0]\n",
    "\n",
    "        closed_nodes.append(open_nodes[idx])\n",
    "        del open_nodes[idx]\n",
    "\n",
    "        if closed_nodes[-1][0] == 'N':\n",
    "            break\n",
    "\n",
    "        for child, edge_cost in graph[current_node]:\n",
    "            if child in [c[0] for c in closed_nodes]:\n",
    "                continue\n",
    "            total_cost = path_cost[current_node] + edge_cost\n",
    "            path_cost[child] = total_cost\n",
    "            f_value = total_cost + heuristic[child]\n",
    "            open_nodes.append([child, f_value])\n",
    "\n",
    "    goal = 'N'\n",
    "    path = [goal]\n",
    "    for i in range(len(closed_nodes) - 2, -1, -1):\n",
    "        node = closed_nodes[i][0]\n",
    "        if goal in [n[0] for n in graph[node]]:\n",
    "            edges = [e[1] for e in graph[node]]\n",
    "            names = [e[0] for e in graph[node]]\n",
    "            if path_cost[node] + edges[names.index(goal)] == path_cost[goal]:\n",
    "                path.append(node)\n",
    "                goal = node\n",
    "\n",
    "    path.reverse()\n",
    "    print(\"Expanded Nodes:\", [x[0] for x in closed_nodes])\n",
    "    print(\"Shortest Path Found:\", ' → '.join(path))\n",
    "    print(\"Total Cost:\", path_cost['N'])\n",
    "\n",
    "a_star_search()\n"
   ]
  }
 ],
 "metadata": {
  "kernelspec": {
   "display_name": "base",
   "language": "python",
   "name": "python3"
  },
  "language_info": {
   "codemirror_mode": {
    "name": "ipython",
    "version": 3
   },
   "file_extension": ".py",
   "mimetype": "text/x-python",
   "name": "python",
   "nbconvert_exporter": "python",
   "pygments_lexer": "ipython3",
   "version": "3.12.4"
  }
 },
 "nbformat": 4,
 "nbformat_minor": 5
}
