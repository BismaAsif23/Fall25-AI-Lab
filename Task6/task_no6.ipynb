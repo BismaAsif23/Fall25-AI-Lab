{
 "cells": [
  {
   "cell_type": "code",
   "execution_count": null,
   "id": "444125ec",
   "metadata": {},
   "outputs": [
    {
     "name": "stdout",
     "output_type": "stream",
     "text": [
      "Starting node: A\n",
      "A\n",
      "B\n",
      "C\n",
      "F\n"
     ]
    }
   ],
   "source": [
    "graph = {\n",
    "    'A': ['B', 'C'],\n",
    "    'B': ['D', 'E'],\n",
    "    'C': ['F'],\n",
    "    'D': [],\n",
    "    'E': ['F'],\n",
    "    'F': []\n",
    "}\n",
    "\n",
    "def bfs_plain(start, stop):\n",
    "    print(f\"Starting node: {start}\")\n",
    "    explored = []\n",
    "    stage = [start]\n",
    "    while stage:\n",
    "        current = stage[0]\n",
    "        print(current)\n",
    "        explored.append(current)\n",
    "        stage = stage[1:]\n",
    "        for link in graph[current]:\n",
    "            if link not in explored and link not in stage:\n",
    "                stage.append(link)\n",
    "            if link == stop:\n",
    "                print(stop)\n",
    "                return\n",
    "    print(\"End not found\")\n",
    "\n",
    "src = 'A'\n",
    "dest = 'F'\n",
    "bfs_plain(src, dest)"
   ]
  }
 ],
 "metadata": {
  "kernelspec": {
   "display_name": "base",
   "language": "python",
   "name": "python3"
  },
  "language_info": {
   "codemirror_mode": {
    "name": "ipython",
    "version": 3
   },
   "file_extension": ".py",
   "mimetype": "text/x-python",
   "name": "python",
   "nbconvert_exporter": "python",
   "pygments_lexer": "ipython3",
   "version": "3.12.4"
  }
 },
 "nbformat": 4,
 "nbformat_minor": 5
}
