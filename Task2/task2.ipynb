{
 "cells": [
  {
   "cell_type": "code",
   "execution_count": 13,
   "id": "0dcd7fbf",
   "metadata": {},
   "outputs": [
    {
     "name": "stdout",
     "output_type": "stream",
     "text": [
      " Welcome to the FizzBuzz Game\n",
      "\n",
      "New Number Added: 5\n",
      " Correct\n",
      "\n",
      "New Number Added: 2\n",
      "Wrong.The correct answer was: Number\n",
      "Game Over! Your Final Score: 1\n"
     ]
    }
   ],
   "source": [
    "import random\n",
    "\n",
    "def fizz_buzz_game():\n",
    "    print(\" Welcome to the FizzBuzz Game\")\n",
    "\n",
    "    total = 0\n",
    "    score = 0\n",
    "\n",
    "    while True:\n",
    "        new_number = random.randint(1, 10) \n",
    "        total += new_number                 \n",
    "\n",
    "        print(f\"\\nNew Number Added: {new_number}\")\n",
    "\n",
    "        guess = input(\"Your Answer (Fizz / Buzz / FizzBuzz / Number): \").strip().capitalize()\n",
    "\n",
    "        if total % 3 == 0 and total % 5 == 0:\n",
    "            correct = \"Fizzbuzz\"\n",
    "        elif total % 3 == 0:\n",
    "            correct = \"Fizz\"\n",
    "        elif total % 5 == 0:\n",
    "            correct = \"Buzz\"\n",
    "        else:\n",
    "            correct = \"Number\"\n",
    "\n",
    "        if guess == correct:\n",
    "            print(\" Correct\")\n",
    "            score += 1\n",
    "        else:\n",
    "            print(f\"Wrong.The correct answer was: {correct}\")\n",
    "            print(f\"Game Over! Your Final Score: {score}\")\n",
    "            break\n",
    "\n",
    "fizz_buzz_game()\n"
   ]
  },
  {
   "cell_type": "code",
   "execution_count": null,
   "id": "791cb14e",
   "metadata": {},
   "outputs": [
    {
     "name": "stdout",
     "output_type": "stream",
     "text": [
      " Average movie budget is: 1290388888.89\n",
      "Movies with higher budget than average:\n",
      "- Ironman (Higher by 8,539,611,111)\n",
      "\n",
      "Total movies: 9\n",
      "Movies above average: 1\n"
     ]
    }
   ],
   "source": [
    "movies = [\n",
    "    (\"Eternal Sunshine of the Spotless Mind\", 20000000),\n",
    "    (\"Memento\", 9000000),\n",
    "    (\"Requiem for a Dream\", 4500000),\n",
    "    (\"Pirates of the Caribbean: On Stranger Tides\", 379000000),\n",
    "    (\"Avengers: Age of Ultron\", 365000000),\n",
    "    (\"Avengers: Endgame\", 356000000),\n",
    "    (\"Incredibles 2\", 200000000)\n",
    "]\n",
    "\n",
    "extra = int(input(\"How many movies do you want to add? \"))\n",
    "\n",
    "for i in range(extra):\n",
    "    name = input(f\"Enter movie name {i+1}: \")\n",
    "    budget = int(input(f\"Enter budget for '{name}': \"))\n",
    "    movies.append((name, budget))\n",
    "\n",
    "total = 0\n",
    "for m in movies:\n",
    "    total += m[1]\n",
    "\n",
    "average = total / len(movies)\n",
    "print(\" Average movie budget is:\", round(average, 2))\n",
    "\n",
    "count = 0\n",
    "print(\"Movies with higher budget than average:\")\n",
    "for name, budget in movies:\n",
    "    if budget > average:\n",
    "        count += 1\n",
    "        print(f\"- {name} (Higher by {budget - average:,.0f})\")\n",
    "\n",
    "print(f\"\\nTotal movies: {len(movies)}\")\n",
    "print(f\"Movies above average: {count}\")\n"
   ]
  }
 ],
 "metadata": {
  "kernelspec": {
   "display_name": "Python 3",
   "language": "python",
   "name": "python3"
  },
  "language_info": {
   "codemirror_mode": {
    "name": "ipython",
    "version": 3
   },
   "file_extension": ".py",
   "mimetype": "text/x-python",
   "name": "python",
   "nbconvert_exporter": "python",
   "pygments_lexer": "ipython3",
   "version": "3.14.0a1"
  }
 },
 "nbformat": 4,
 "nbformat_minor": 5
}
