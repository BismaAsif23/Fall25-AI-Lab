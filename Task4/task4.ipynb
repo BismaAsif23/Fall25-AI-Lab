{
 "cells": [
  {
   "cell_type": "markdown",
   "id": "07f60809",
   "metadata": {},
   "source": [
    "# Name = Bisma Asif\n",
    "\n",
    "# Roll no = 069\n",
    "\n",
    "# Section = BSDS-3A"
   ]
  },
  {
   "cell_type": "markdown",
   "id": "a9a6893d",
   "metadata": {},
   "source": [
    "### Card validation check"
   ]
  },
  {
   "cell_type": "code",
   "execution_count": 1,
   "id": "279d3953",
   "metadata": {},
   "outputs": [
    {
     "name": "stdout",
     "output_type": "stream",
     "text": [
      " Card number you enter is VALID\n"
     ]
    }
   ],
   "source": [
    "\n",
    "card_no = input(\"Enter card no: \")\n",
    "\n",
    "num = list(map(int, card_no))\n",
    "\n",
    "n = len(num)\n",
    "for i in range(n - 2, -1, -2):   \n",
    "    doubled = num[i] * 2\n",
    "    if doubled > 9:\n",
    "        doubled -= 9\n",
    "    num[i] = doubled\n",
    "\n",
    "\n",
    "total = sum(num)\n",
    "\n",
    "\n",
    "if total % 10 == 0:\n",
    "    print(\" Card number you enter is VALID\")\n",
    "else:\n",
    "    print(\"Card number you enter is INVALID\")\n"
   ]
  },
  {
   "cell_type": "markdown",
   "id": "8c002b7c",
   "metadata": {},
   "source": [
    "### Removing punctuations from string"
   ]
  },
  {
   "cell_type": "code",
   "execution_count": 5,
   "id": "ab5d8fa9",
   "metadata": {},
   "outputs": [
    {
     "name": "stdout",
     "output_type": "stream",
     "text": [
      "orignal text : b@i#s$m%a)\n",
      "After removing punctuations  : bisma\n"
     ]
    }
   ],
   "source": [
    "a = input(\"Enter a text: \")\n",
    "\n",
    "str = \"\"\n",
    "\n",
    "for c in a:\n",
    "    ascii_val = ord(c)\n",
    "    if (65 <= ascii_val <= 90) or (97 <= ascii_val <= 122) or (48 <= ascii_val <= 57) or ascii_val == 32:\n",
    "        str += c\n",
    "\n",
    "print(\"orignal text :\", a)\n",
    "print(\"After removing punctuations  :\", str)\n"
   ]
  },
  {
   "cell_type": "markdown",
   "id": "96a38546",
   "metadata": {},
   "source": [
    "### Sorting in alphabetical order  "
   ]
  },
  {
   "cell_type": "code",
   "execution_count": 5,
   "id": "b8f4a147",
   "metadata": {},
   "outputs": [
    {
     "name": "stdout",
     "output_type": "stream",
     "text": [
      "Sorted sentence: Is My bisma name the\n"
     ]
    }
   ],
   "source": [
    "sentence = input(\"Enter a sentence: \")\n",
    "\n",
    "words = sentence.split()\n",
    "\n",
    "n = len(words)\n",
    "for i in range(n):\n",
    "    for j in range(0, n - i - 1):\n",
    "        if words[j] > words[j + 1]:  \n",
    "            words[j], words[j + 1] = words[j + 1], words[j]\n",
    "\n",
    "sorted_sentence = \" \".join(words)\n",
    "print(\"Sorted sentence:\", sorted_sentence)\n"
   ]
  },
  {
   "cell_type": "code",
   "execution_count": 3,
   "id": "fbd388b2",
   "metadata": {},
   "outputs": [
    {
     "name": "stdout",
     "output_type": "stream",
     "text": [
      "Orignal sentence: bismaasif\n",
      "Sorted by characters: aabfiimss\n"
     ]
    }
   ],
   "source": [
    "sentence = input(\"Enter a sentence: \")\n",
    "\n",
    "\n",
    "chars = list(sentence)\n",
    "\n",
    "\n",
    "n = len(chars)\n",
    "for i in range(n):\n",
    "    for j in range(0, n - i - 1):\n",
    "        if chars[j] > chars[j + 1]:\n",
    "            chars[j], chars[j + 1] = chars[j + 1], chars[j]\n",
    "\n",
    "sorted_chars = \"\".join(chars)\n",
    "print(\"Orignal sentence:\", sentence)\n",
    "print(\"Sorted by characters:\", sorted_chars)"
   ]
  }
 ],
 "metadata": {
  "kernelspec": {
   "display_name": "base",
   "language": "python",
   "name": "python3"
  },
  "language_info": {
   "codemirror_mode": {
    "name": "ipython",
    "version": 3
   },
   "file_extension": ".py",
   "mimetype": "text/x-python",
   "name": "python",
   "nbconvert_exporter": "python",
   "pygments_lexer": "ipython3",
   "version": "3.12.4"
  }
 },
 "nbformat": 4,
 "nbformat_minor": 5
}
