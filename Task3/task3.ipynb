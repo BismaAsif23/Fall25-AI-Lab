{
 "cells": [
  {
   "cell_type": "markdown",
   "id": "3d3d4684",
   "metadata": {},
   "source": [
    "## Simple Reflex Agent:"
   ]
  },
  {
   "cell_type": "code",
   "execution_count": 2,
   "id": "4e579ba0",
   "metadata": {},
   "outputs": [
    {
     "name": "stdout",
     "output_type": "stream",
     "text": [
      "Living Room: Current temperature = 18. Turn on heater\n",
      "Bedroom: Current temperature = 22. Turn off heater\n",
      "Kitchen: Current temperature = 20. Turn on heater\n",
      "Bathroom: Current temperature = 24. Turn off heater\n",
      "Library: Current temperature = 19. Turn on heater\n"
     ]
    }
   ],
   "source": [
    "class SimpleReflexAgent:\n",
    "    def __init__(self, desired_temperature):\n",
    "        self.desired_temperature = desired_temperature  \n",
    "    \n",
    "    def perceive(self, current_temperature):\n",
    "        return current_temperature  \n",
    "    \n",
    "    def act(self, current_temperature):\n",
    "        if current_temperature < self.desired_temperature:\n",
    "            action = \"Turn on heater\"\n",
    "        else:\n",
    "            action = \"Turn off heater\"\n",
    "        return action\n",
    "\n",
    "\n",
    "rooms = {\n",
    "    \"Living Room\": 18,\n",
    "    \"Bedroom\": 22,\n",
    "    \"Kitchen\": 20,\n",
    "    \"Bathroom\": 24,\n",
    "    \"Library\": 19\n",
    "}\n",
    "\n",
    "\n",
    "desired_temperature = 22\n",
    "agent = SimpleReflexAgent(desired_temperature)\n",
    "\n",
    "\n",
    "for room, temperature in rooms.items():\n",
    "    action = agent.act(temperature)\n",
    "    print(f\"{room}: Current temperature = {temperature}. {action}\")\n"
   ]
  },
  {
   "cell_type": "markdown",
   "id": "a79bb73a",
   "metadata": {},
   "source": [
    "## Model-Based Reflex Agent "
   ]
  },
  {
   "cell_type": "code",
   "execution_count": 1,
   "id": "3fafe57e",
   "metadata": {},
   "outputs": [
    {
     "name": "stdout",
     "output_type": "stream",
     "text": [
      "\n",
      "Living Room:\n",
      "Current temperature = 18 - Turn on heater\n",
      "Current temperature = 19 - No change — heater remains ON.\n",
      "Current temperature = 22 - Turn off heater\n",
      "Current temperature = 21 - Turn on heater\n",
      "Current temperature = 20 - No change — heater remains ON.\n",
      "Current temperature = 22 - Turn off heater\n",
      "Current temperature = 23 - No change — heater remains OFF.\n",
      "\n",
      "Bedroom:\n",
      "Current temperature = 24 - No change — heater remains OFF.\n",
      "Current temperature = 24 - No change — heater remains OFF.\n",
      "Current temperature = 23 - No change — heater remains OFF.\n",
      "Current temperature = 22 - No change — heater remains OFF.\n",
      "Current temperature = 21 - Turn on heater\n",
      "Current temperature = 22 - Turn off heater\n",
      "\n",
      "Kitchen:\n",
      "Current temperature = 20 - Turn on heater\n",
      "Current temperature = 21 - No change — heater remains ON.\n",
      "Current temperature = 22 - Turn off heater\n",
      "Current temperature = 23 - No change — heater remains OFF.\n",
      "Current temperature = 21 - Turn on heater\n",
      "Current temperature = 20 - No change — heater remains ON.\n",
      "Current temperature = 19 - No change — heater remains ON.\n",
      "\n",
      "Action History:\n",
      "Living Room: 18 - Turn on heater\n",
      "Living Room: 19 - No change — heater remains ON.\n",
      "Living Room: 22 - Turn off heater\n",
      "Living Room: 21 - Turn on heater\n",
      "Living Room: 20 - No change — heater remains ON.\n",
      "Living Room: 22 - Turn off heater\n",
      "Living Room: 23 - No change — heater remains OFF.\n",
      "Bedroom: 24 - No change — heater remains OFF.\n",
      "Bedroom: 24 - No change — heater remains OFF.\n",
      "Bedroom: 23 - No change — heater remains OFF.\n",
      "Bedroom: 22 - No change — heater remains OFF.\n",
      "Bedroom: 21 - Turn on heater\n",
      "Bedroom: 22 - Turn off heater\n",
      "Kitchen: 20 - Turn on heater\n",
      "Kitchen: 21 - No change — heater remains ON.\n",
      "Kitchen: 22 - Turn off heater\n",
      "Kitchen: 23 - No change — heater remains OFF.\n",
      "Kitchen: 21 - Turn on heater\n",
      "Kitchen: 20 - No change — heater remains ON.\n",
      "Kitchen: 19 - No change — heater remains ON.\n"
     ]
    }
   ],
   "source": [
    "class ModelBasedReflexAgent: \n",
    "    def __init__(self, des_temperature): \n",
    "        self.des_temperature = des_temperature \n",
    "        self.prev_action = None   \n",
    "        self.history = []\n",
    " \n",
    "    def act(self, room, curr_temperature): \n",
    "        if curr_temperature < self.des_temperature: \n",
    "            action = \"Turn on heater\" \n",
    "        else: \n",
    "            action = \"Turn off heater\"\n",
    "        \n",
    "        if action == self.prev_action: \n",
    "            result = f\"No change — heater remains {'ON' if 'on' in action else 'OFF'}.\"\n",
    "        else: \n",
    "            result = action\n",
    " \n",
    "        self.history.append({\n",
    "            \"Room\": room,\n",
    "            \"Temperature\": curr_temperature,\n",
    "            \"Action\": result\n",
    "        })\n",
    " \n",
    "        self.prev_action = action \n",
    "        return result\n",
    "\n",
    "\n",
    "rooms = { \n",
    "    \"Living Room\": [18,19,22,21,20,22,23], \n",
    "    \"Bedroom\": [24,24,23,22,21,22], \n",
    "    \"Kitchen\": [20,21,22,23,21,20,19] \n",
    "} \n",
    " \n",
    "desired_temperature = 22 \n",
    "agent = ModelBasedReflexAgent(desired_temperature) \n",
    " \n",
    "for room, temperatures in rooms.items(): \n",
    "    print(f\"\\n{room}:\") \n",
    "    for temp in temperatures: \n",
    "        action = agent.act(room, temp) \n",
    "        print(f\"Current temperature = {temp} - {action}\")\n",
    "\n",
    "print(\"\\nAction History:\")\n",
    "for record in agent.history:\n",
    "    print(f\"{record['Room']}: {record['Temperature']} - {record['Action']}\")\n"
   ]
  }
 ],
 "metadata": {
  "kernelspec": {
   "display_name": "base",
   "language": "python",
   "name": "python3"
  },
  "language_info": {
   "codemirror_mode": {
    "name": "ipython",
    "version": 3
   },
   "file_extension": ".py",
   "mimetype": "text/x-python",
   "name": "python",
   "nbconvert_exporter": "python",
   "pygments_lexer": "ipython3",
   "version": "3.12.4"
  }
 },
 "nbformat": 4,
 "nbformat_minor": 5
}
