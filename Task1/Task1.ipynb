{
 "cells": [
  {
   "cell_type": "code",
   "execution_count": 5,
   "id": "c6399483",
   "metadata": {},
   "outputs": [
    {
     "name": "stdout",
     "output_type": "stream",
     "text": [
      "TO-DO LIST MENU\n",
      "1. Add Task\n",
      "2. Show Tasks\n",
      "3. Delete Task\n",
      "4. Exit\n",
      "'book reading' added High priority.\n",
      "\n",
      "TO-DO LIST MENU\n",
      "1. Add Task\n",
      "2. Show Tasks\n",
      "3. Delete Task\n",
      "4. Exit\n",
      "\n",
      "Your To-Do List:\n",
      "1. book reading-Priority: High\n",
      "\n",
      "TO-DO LIST MENU\n",
      "1. Add Task\n",
      "2. Show Tasks\n",
      "3. Delete Task\n",
      "4. Exit\n",
      "Goodbye\n"
     ]
    }
   ],
   "source": [
    "tasks = []\n",
    "\n",
    "def add_task():\n",
    "    task = input(\"Enter task name: \")\n",
    "    priority = input(\"Enter priority (High / Medium / Low): \").capitalize()\n",
    "\n",
    "    if priority not in [\"High\", \"Medium\", \"Low\"]:\n",
    "        priority = \"Low\"\n",
    "\n",
    "    tasks.append({\"task\": task, \"priority\": priority})\n",
    "    print(f\"'{task}' added {priority} priority.\\n\")\n",
    "\n",
    "def show_tasks():\n",
    "    if not tasks:\n",
    "        print(\"No tasks found.\\n\")\n",
    "        return\n",
    "\n",
    "    print(\"\\nYour To-Do List:\")\n",
    "    for i, t in enumerate(tasks, 1):\n",
    "        print(f\"{i}. {t['task']}-Priority: {t['priority']}\")\n",
    "    print()\n",
    "\n",
    "\n",
    "def delete_task():\n",
    "    show_tasks()\n",
    "    if tasks:\n",
    "        num = int(input(\"Enter the task delete: \"))\n",
    "        if 1 <= num <= len(tasks):\n",
    "            removed = tasks.pop(num - 1)\n",
    "            print(f\"'{removed['task']}' has been deleted\")\n",
    "        else:\n",
    "            print(\"Invalid task number\")\n",
    "\n",
    "def main():\n",
    "    while True:\n",
    "        print(\"TO-DO LIST MENU\")\n",
    "        print(\"1. Add Task\")\n",
    "        print(\"2. Show Tasks\")\n",
    "        print(\"3. Delete Task\")\n",
    "        print(\"4. Exit\")\n",
    "\n",
    "        choice = input(\"Enter your choice : \")\n",
    "\n",
    "        if choice == \"1\":\n",
    "            add_task()\n",
    "        elif choice == \"2\":\n",
    "            show_tasks()\n",
    "        elif choice == \"3\":\n",
    "            delete_task()\n",
    "        elif choice == \"4\":\n",
    "            print(\"Goodbye\")\n",
    "            break\n",
    "        else:\n",
    "            print(\"Invalid\")\n",
    "\n",
    "main()\n"
   ]
  }
 ],
 "metadata": {
  "kernelspec": {
   "display_name": "base",
   "language": "python",
   "name": "python3"
  },
  "language_info": {
   "codemirror_mode": {
    "name": "ipython",
    "version": 3
   },
   "file_extension": ".py",
   "mimetype": "text/x-python",
   "name": "python",
   "nbconvert_exporter": "python",
   "pygments_lexer": "ipython3",
   "version": "3.12.4"
  }
 },
 "nbformat": 4,
 "nbformat_minor": 5
}
